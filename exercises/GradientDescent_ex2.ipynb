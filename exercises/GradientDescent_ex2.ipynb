{
 "cells": [
  {
   "cell_type": "code",
   "execution_count": 1,
   "metadata": {},
   "outputs": [],
   "source": [
    "import numpy as np\n",
    "import pandas as pd\n",
    "%matplotlib inline\n",
    "import matplotlib.pyplot as plt"
   ]
  },
  {
   "cell_type": "code",
   "execution_count": 2,
   "metadata": {},
   "outputs": [],
   "source": [
    "df = pd.read_csv('../data/wines.csv')"
   ]
  },
  {
   "cell_type": "code",
   "execution_count": 3,
   "metadata": {},
   "outputs": [],
   "source": [
    "y = df['Class']"
   ]
  },
  {
   "cell_type": "code",
   "execution_count": 4,
   "metadata": {},
   "outputs": [],
   "source": [
    "y_cat = pd.get_dummies(y)"
   ]
  },
  {
   "cell_type": "code",
   "execution_count": 5,
   "metadata": {},
   "outputs": [],
   "source": [
    "X = df.drop('Class', axis=1)"
   ]
  },
  {
   "cell_type": "code",
   "execution_count": 6,
   "metadata": {},
   "outputs": [
    {
     "data": {
      "text/plain": [
       "(178, 13)"
      ]
     },
     "execution_count": 6,
     "metadata": {},
     "output_type": "execute_result"
    }
   ],
   "source": [
    "X.shape"
   ]
  },
  {
   "cell_type": "code",
   "execution_count": 7,
   "metadata": {},
   "outputs": [
    {
     "name": "stderr",
     "output_type": "stream",
     "text": [
      "C:\\Users\\oprea\\Anaconda3\\envs\\ztdl\\lib\\site-packages\\sklearn\\preprocessing\\data.py:645: DataConversionWarning: Data with input dtype int64, float64 were all converted to float64 by StandardScaler.\n",
      "  return self.partial_fit(X, y)\n",
      "C:\\Users\\oprea\\Anaconda3\\envs\\ztdl\\lib\\site-packages\\sklearn\\base.py:464: DataConversionWarning: Data with input dtype int64, float64 were all converted to float64 by StandardScaler.\n",
      "  return self.fit(X, **fit_params).transform(X)\n"
     ]
    }
   ],
   "source": [
    "from sklearn.preprocessing import StandardScaler\n",
    "sc = StandardScaler()\n",
    "Xsc = sc.fit_transform(X)"
   ]
  },
  {
   "cell_type": "code",
   "execution_count": 9,
   "metadata": {},
   "outputs": [
    {
     "name": "stderr",
     "output_type": "stream",
     "text": [
      "Using TensorFlow backend.\n"
     ]
    }
   ],
   "source": [
    "from keras.models import Sequential\n",
    "from keras.layers import Dense\n",
    "from keras.optimizers import SGD, Adam, Adadelta, RMSprop\n",
    "import keras.backend as K"
   ]
  },
  {
   "cell_type": "code",
   "execution_count": 10,
   "metadata": {},
   "outputs": [
    {
     "name": "stdout",
     "output_type": "stream",
     "text": [
      "Epoch 1/20\n",
      "178/178 [==============================] - 1s 5ms/step - loss: 0.6289 - acc: 0.7584\n",
      "Epoch 2/20\n",
      "178/178 [==============================] - 0s 286us/step - loss: 0.2002 - acc: 0.9663\n",
      "Epoch 3/20\n",
      "178/178 [==============================] - 0s 315us/step - loss: 0.1087 - acc: 0.9888\n",
      "Epoch 4/20\n",
      "178/178 [==============================] - 0s 270us/step - loss: 0.0728 - acc: 0.9831\n",
      "Epoch 5/20\n",
      "178/178 [==============================] - 0s 225us/step - loss: 0.0412 - acc: 0.9944\n",
      "Epoch 6/20\n",
      "178/178 [==============================] - 0s 202us/step - loss: 0.0151 - acc: 1.0000\n",
      "Epoch 7/20\n",
      "178/178 [==============================] - 0s 202us/step - loss: 0.0087 - acc: 1.0000\n",
      "Epoch 8/20\n",
      "178/178 [==============================] - 0s 202us/step - loss: 0.0052 - acc: 1.0000\n",
      "Epoch 9/20\n",
      "178/178 [==============================] - 0s 225us/step - loss: 0.0032 - acc: 1.0000\n",
      "Epoch 10/20\n",
      "178/178 [==============================] - 0s 202us/step - loss: 0.0020 - acc: 1.0000\n",
      "Epoch 11/20\n",
      "178/178 [==============================] - 0s 202us/step - loss: 0.0013 - acc: 1.0000\n",
      "Epoch 12/20\n",
      "178/178 [==============================] - 0s 180us/step - loss: 7.9573e-04 - acc: 1.0000\n",
      "Epoch 13/20\n",
      "178/178 [==============================] - 0s 225us/step - loss: 4.8329e-04 - acc: 1.0000\n",
      "Epoch 14/20\n",
      "178/178 [==============================] - 0s 157us/step - loss: 0.1912 - acc: 0.9719\n",
      "Epoch 15/20\n",
      "178/178 [==============================] - 0s 157us/step - loss: 0.1314 - acc: 0.9775\n",
      "Epoch 16/20\n",
      "178/178 [==============================] - 0s 135us/step - loss: 0.0016 - acc: 1.0000\n",
      "Epoch 17/20\n",
      "178/178 [==============================] - 0s 157us/step - loss: 0.0012 - acc: 1.0000\n",
      "Epoch 18/20\n",
      "178/178 [==============================] - 0s 180us/step - loss: 8.6670e-04 - acc: 1.0000\n",
      "Epoch 19/20\n",
      "178/178 [==============================] - 0s 135us/step - loss: 6.4264e-04 - acc: 1.0000\n",
      "Epoch 20/20\n",
      "178/178 [==============================] - 0s 157us/step - loss: 4.8629e-04 - acc: 1.0000\n"
     ]
    },
    {
     "data": {
      "text/plain": [
       "<keras.callbacks.History at 0x1cf69170b38>"
      ]
     },
     "execution_count": 10,
     "metadata": {},
     "output_type": "execute_result"
    }
   ],
   "source": [
    "K.clear_session()\n",
    "model = Sequential()\n",
    "model.add(Dense(8, input_shape=(13,),\n",
    "                kernel_initializer='he_normal', activation='tanh'))\n",
    "model.add(Dense(5, kernel_initializer='he_normal', activation='tanh'))\n",
    "model.add(Dense(2, kernel_initializer='he_normal', activation='tanh'))\n",
    "model.add(Dense(3, activation='softmax'))\n",
    "\n",
    "model.compile(RMSprop(lr=0.05),\n",
    "              'categorical_crossentropy',\n",
    "              metrics=['accuracy'])\n",
    "\n",
    "model.fit(Xsc, y_cat.values,\n",
    "          batch_size=16,\n",
    "          epochs=20,\n",
    "          verbose=1)"
   ]
  },
  {
   "cell_type": "code",
   "execution_count": 11,
   "metadata": {},
   "outputs": [
    {
     "name": "stdout",
     "output_type": "stream",
     "text": [
      "Model: \"sequential_1\"\n",
      "_________________________________________________________________\n",
      "Layer (type)                 Output Shape              Param #   \n",
      "=================================================================\n",
      "dense_1 (Dense)              (None, 8)                 112       \n",
      "_________________________________________________________________\n",
      "dense_2 (Dense)              (None, 5)                 45        \n",
      "_________________________________________________________________\n",
      "dense_3 (Dense)              (None, 2)                 12        \n",
      "_________________________________________________________________\n",
      "dense_4 (Dense)              (None, 3)                 9         \n",
      "=================================================================\n",
      "Total params: 178\n",
      "Trainable params: 178\n",
      "Non-trainable params: 0\n",
      "_________________________________________________________________\n"
     ]
    }
   ],
   "source": [
    "model.summary()"
   ]
  },
  {
   "cell_type": "code",
   "execution_count": 12,
   "metadata": {},
   "outputs": [],
   "source": [
    "inp = model.layers[0].input\n",
    "out = model.layers[2].output"
   ]
  },
  {
   "cell_type": "code",
   "execution_count": 14,
   "metadata": {},
   "outputs": [],
   "source": [
    "features_function = K.function([inp], [out])"
   ]
  },
  {
   "cell_type": "code",
   "execution_count": 15,
   "metadata": {},
   "outputs": [],
   "source": [
    "features = features_function([Xsc])[0]"
   ]
  },
  {
   "cell_type": "code",
   "execution_count": 16,
   "metadata": {},
   "outputs": [
    {
     "data": {
      "text/plain": [
       "(178, 2)"
      ]
     },
     "execution_count": 16,
     "metadata": {},
     "output_type": "execute_result"
    }
   ],
   "source": [
    "features.shape"
   ]
  },
  {
   "cell_type": "code",
   "execution_count": 17,
   "metadata": {},
   "outputs": [
    {
     "data": {
      "text/plain": [
       "<matplotlib.collections.PathCollection at 0x1cf720b6ac8>"
      ]
     },
     "execution_count": 17,
     "metadata": {},
     "output_type": "execute_result"
    },
    {
     "data": {
      "image/png": "[encoded data removed]",
      "text/plain": [
       "<Figure size 432x288 with 1 Axes>"
      ]
     },
     "metadata": {
      "needs_background": "light"
     },
     "output_type": "display_data"
    }
   ],
   "source": [
    "plt.scatter(features[:, 0], features[:, 1], c=y)"
   ]
  },
  {
   "cell_type": "code",
   "execution_count": null,
   "metadata": {},
   "outputs": [],
   "source": []
  }
 ],
 "metadata": {
  "kernelspec": {
   "display_name": "Python 3",
   "language": "python",
   "name": "python3"
  },
  "language_info": {
   "codemirror_mode": {
    "name": "ipython",
    "version": 3
   },
   "file_extension": ".py",
   "mimetype": "text/x-python",
   "name": "python",
   "nbconvert_exporter": "python",
   "pygments_lexer": "ipython3",
   "version": "3.6.9"
  }
 },
 "nbformat": 4,
 "nbformat_minor": 2
}
