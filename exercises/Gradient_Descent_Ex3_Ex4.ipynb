{
 "cells": [
  {
   "cell_type": "code",
   "execution_count": 2,
   "metadata": {},
   "outputs": [],
   "source": [
    "import numpy as np\n",
    "import pandas as pd\n",
    "%matplotlib inline\n",
    "import matplotlib.pyplot as plt"
   ]
  },
  {
   "cell_type": "code",
   "execution_count": 3,
   "metadata": {},
   "outputs": [
    {
     "data": {
      "text/plain": [
       "(178, 13)"
      ]
     },
     "execution_count": 3,
     "metadata": {},
     "output_type": "execute_result"
    }
   ],
   "source": [
    "df = pd.read_csv('../data/wines.csv')\n",
    "y = df['Class']\n",
    "y_cat = pd.get_dummies(y)\n",
    "X = df.drop('Class', axis=1)\n",
    "X.shape"
   ]
  },
  {
   "cell_type": "code",
   "execution_count": 4,
   "metadata": {},
   "outputs": [
    {
     "name": "stderr",
     "output_type": "stream",
     "text": [
      "C:\\Users\\oprea\\Anaconda3\\envs\\ztdl\\lib\\site-packages\\sklearn\\preprocessing\\data.py:645: DataConversionWarning: Data with input dtype int64, float64 were all converted to float64 by StandardScaler.\n",
      "  return self.partial_fit(X, y)\n",
      "C:\\Users\\oprea\\Anaconda3\\envs\\ztdl\\lib\\site-packages\\sklearn\\base.py:464: DataConversionWarning: Data with input dtype int64, float64 were all converted to float64 by StandardScaler.\n",
      "  return self.fit(X, **fit_params).transform(X)\n"
     ]
    }
   ],
   "source": [
    "from sklearn.preprocessing import StandardScaler\n",
    "sc = StandardScaler()\n",
    "Xsc = sc.fit_transform(X)"
   ]
  },
  {
   "cell_type": "code",
   "execution_count": 5,
   "metadata": {},
   "outputs": [
    {
     "name": "stderr",
     "output_type": "stream",
     "text": [
      "Using TensorFlow backend.\n"
     ]
    }
   ],
   "source": [
    "from keras.models import Sequential\n",
    "from keras.layers import Dense\n",
    "from keras.optimizers import SGD, Adam, Adadelta, RMSprop\n",
    "import keras.backend as K"
   ]
  },
  {
   "cell_type": "code",
   "execution_count": 6,
   "metadata": {},
   "outputs": [],
   "source": [
    "from keras.layers import Input\n",
    "from keras.models import Model"
   ]
  },
  {
   "cell_type": "code",
   "execution_count": 7,
   "metadata": {},
   "outputs": [
    {
     "name": "stdout",
     "output_type": "stream",
     "text": [
      "Epoch 1/20\n",
      "178/178 [==============================] - 1s 4ms/step - loss: 0.7083 - acc: 0.7416\n",
      "Epoch 2/20\n",
      "178/178 [==============================] - 0s 157us/step - loss: 0.2725 - acc: 0.9551\n",
      "Epoch 3/20\n",
      "178/178 [==============================] - 0s 157us/step - loss: 0.1536 - acc: 0.9775\n",
      "Epoch 4/20\n",
      "178/178 [==============================] - 0s 149us/step - loss: 0.1178 - acc: 0.9831\n",
      "Epoch 5/20\n",
      "178/178 [==============================] - 0s 164us/step - loss: 0.1164 - acc: 0.9775\n",
      "Epoch 6/20\n",
      "178/178 [==============================] - 0s 164us/step - loss: 0.0816 - acc: 0.9831\n",
      "Epoch 7/20\n",
      "178/178 [==============================] - 0s 180us/step - loss: 0.0674 - acc: 0.9888\n",
      "Epoch 8/20\n",
      "178/178 [==============================] - 0s 157us/step - loss: 0.0488 - acc: 0.9888\n",
      "Epoch 9/20\n",
      "178/178 [==============================] - 0s 135us/step - loss: 0.0133 - acc: 1.0000\n",
      "Epoch 10/20\n",
      "178/178 [==============================] - 0s 139us/step - loss: 0.0638 - acc: 0.9831\n",
      "Epoch 11/20\n",
      "178/178 [==============================] - 0s 180us/step - loss: 0.0118 - acc: 1.0000\n",
      "Epoch 12/20\n",
      "178/178 [==============================] - 0s 157us/step - loss: 0.0050 - acc: 1.0000\n",
      "Epoch 13/20\n",
      "178/178 [==============================] - 0s 180us/step - loss: 0.0032 - acc: 1.0000\n",
      "Epoch 14/20\n",
      "178/178 [==============================] - 0s 157us/step - loss: 0.0020 - acc: 1.0000\n",
      "Epoch 15/20\n",
      "178/178 [==============================] - 0s 135us/step - loss: 0.0012 - acc: 1.0000\n",
      "Epoch 16/20\n",
      "178/178 [==============================] - 0s 148us/step - loss: 7.1577e-04 - acc: 1.0000\n",
      "Epoch 17/20\n",
      "178/178 [==============================] - 0s 135us/step - loss: 4.3755e-04 - acc: 1.0000\n",
      "Epoch 18/20\n",
      "178/178 [==============================] - 0s 180us/step - loss: 2.5899e-04 - acc: 1.0000\n",
      "Epoch 19/20\n",
      "178/178 [==============================] - 0s 157us/step - loss: 1.5880e-04 - acc: 1.0000\n",
      "Epoch 20/20\n",
      "178/178 [==============================] - 0s 157us/step - loss: 9.1207e-05 - acc: 1.0000\n"
     ]
    },
    {
     "data": {
      "text/plain": [
       "<keras.callbacks.History at 0x216015c3f98>"
      ]
     },
     "execution_count": 7,
     "metadata": {},
     "output_type": "execute_result"
    }
   ],
   "source": [
    "K.clear_session()\n",
    "\n",
    "inputs = Input(shape=(13,))\n",
    "x = Dense(8, kernel_initializer='he_normal', activation='tanh')(inputs)\n",
    "x = Dense(5, kernel_initializer='he_normal', activation='tanh')(x)\n",
    "second_to_last = Dense(2, kernel_initializer='he_normal',\n",
    "                       activation='tanh')(x)\n",
    "outputs = Dense(3, activation='softmax')(second_to_last)\n",
    "\n",
    "model = Model(inputs=inputs, outputs=outputs)\n",
    "\n",
    "model.compile(RMSprop(lr=0.05),\n",
    "              'categorical_crossentropy',\n",
    "              metrics=['accuracy'])\n",
    "\n",
    "model.fit(Xsc, y_cat.values, batch_size=16, epochs=20, verbose=1)"
   ]
  },
  {
   "cell_type": "code",
   "execution_count": 8,
   "metadata": {},
   "outputs": [],
   "source": [
    "features_function = K.function([inputs], [second_to_last])"
   ]
  },
  {
   "cell_type": "code",
   "execution_count": 9,
   "metadata": {},
   "outputs": [],
   "source": [
    "features = features_function([Xsc])[0]"
   ]
  },
  {
   "cell_type": "code",
   "execution_count": 10,
   "metadata": {},
   "outputs": [
    {
     "data": {
      "text/plain": [
       "<matplotlib.collections.PathCollection at 0x21601d579b0>"
      ]
     },
     "execution_count": 10,
     "metadata": {},
     "output_type": "execute_result"
    },
    {
     "data": {
      "image/png": "[encoded data removed]",
      "text/plain": [
       "<Figure size 432x288 with 1 Axes>"
      ]
     },
     "metadata": {
      "needs_background": "light"
     },
     "output_type": "display_data"
    }
   ],
   "source": [
    "plt.scatter(features[:, 0], features[:, 1], c=y)"
   ]
  },
  {
   "cell_type": "code",
   "execution_count": 19,
   "metadata": {},
   "outputs": [],
   "source": [
    "from keras.callbacks import ModelCheckpoint, EarlyStopping, TensorBoard"
   ]
  },
  {
   "cell_type": "code",
   "execution_count": 20,
   "metadata": {},
   "outputs": [],
   "source": [
    "checkpointer = ModelCheckpoint(filepath=\"/tmp/udemy/weights.hdf5\",\n",
    "                               verbose=1, save_best_only=True)"
   ]
  },
  {
   "cell_type": "code",
   "execution_count": 21,
   "metadata": {},
   "outputs": [],
   "source": [
    "earlystopper = EarlyStopping(monitor='val_loss', min_delta=0,\n",
    "                             patience=1, verbose=1, mode='auto')"
   ]
  },
  {
   "cell_type": "code",
   "execution_count": 22,
   "metadata": {},
   "outputs": [],
   "source": [
    "tensorboard = TensorBoard(log_dir='/tmp/udemy/tensorboard/')"
   ]
  },
  {
   "cell_type": "code",
   "execution_count": 23,
   "metadata": {},
   "outputs": [],
   "source": [
    "from sklearn.model_selection import train_test_split"
   ]
  },
  {
   "cell_type": "code",
   "execution_count": 24,
   "metadata": {},
   "outputs": [],
   "source": [
    "X_train, X_test, y_train, y_test = train_test_split(Xsc, y_cat.values,\n",
    "                                                    test_size=0.3,\n",
    "                                                    random_state=42)"
   ]
  },
  {
   "cell_type": "code",
   "execution_count": 25,
   "metadata": {},
   "outputs": [
    {
     "name": "stdout",
     "output_type": "stream",
     "text": [
      "Train on 124 samples, validate on 54 samples\n",
      "Epoch 1/20\n",
      " - 1s - loss: 0.9068 - acc: 0.5484 - val_loss: 0.5519 - val_acc: 0.9074\n",
      "\n",
      "Epoch 00001: val_loss improved from inf to 0.55189, saving model to /tmp/udemy/weights.hdf5\n",
      "Epoch 2/20\n",
      " - 0s - loss: 0.4949 - acc: 0.9113 - val_loss: 0.3077 - val_acc: 1.0000\n",
      "\n",
      "Epoch 00002: val_loss improved from 0.55189 to 0.30768, saving model to /tmp/udemy/weights.hdf5\n",
      "Epoch 3/20\n",
      " - 0s - loss: 0.2746 - acc: 0.9839 - val_loss: 0.2431 - val_acc: 0.9815\n",
      "\n",
      "Epoch 00003: val_loss improved from 0.30768 to 0.24312, saving model to /tmp/udemy/weights.hdf5\n",
      "Epoch 4/20\n",
      " - 0s - loss: 0.1856 - acc: 0.9919 - val_loss: 0.1688 - val_acc: 0.9815\n",
      "\n",
      "Epoch 00004: val_loss improved from 0.24312 to 0.16881, saving model to /tmp/udemy/weights.hdf5\n",
      "Epoch 5/20\n",
      " - 0s - loss: 0.1203 - acc: 1.0000 - val_loss: 0.1232 - val_acc: 0.9815\n",
      "\n",
      "Epoch 00005: val_loss improved from 0.16881 to 0.12320, saving model to /tmp/udemy/weights.hdf5\n",
      "Epoch 6/20\n",
      " - 0s - loss: 0.0894 - acc: 1.0000 - val_loss: 0.1074 - val_acc: 0.9815\n",
      "\n",
      "Epoch 00006: val_loss improved from 0.12320 to 0.10743, saving model to /tmp/udemy/weights.hdf5\n",
      "Epoch 7/20\n",
      " - 0s - loss: 0.0695 - acc: 1.0000 - val_loss: 0.0843 - val_acc: 0.9815\n",
      "\n",
      "Epoch 00007: val_loss improved from 0.10743 to 0.08432, saving model to /tmp/udemy/weights.hdf5\n",
      "Epoch 8/20\n",
      " - 0s - loss: 0.0553 - acc: 1.0000 - val_loss: 0.0881 - val_acc: 0.9815\n",
      "\n",
      "Epoch 00008: val_loss did not improve from 0.08432\n",
      "Epoch 00008: early stopping\n"
     ]
    },
    {
     "data": {
      "text/plain": [
       "<keras.callbacks.History at 0x2160504bc18>"
      ]
     },
     "execution_count": 25,
     "metadata": {},
     "output_type": "execute_result"
    }
   ],
   "source": [
    "K.clear_session()\n",
    "\n",
    "inputs = Input(shape=(13,))\n",
    "\n",
    "x = Dense(8, kernel_initializer='he_normal', activation='tanh')(inputs)\n",
    "x = Dense(5, kernel_initializer='he_normal', activation='tanh')(x)\n",
    "second_to_last = Dense(2, kernel_initializer='he_normal',\n",
    "                       activation='tanh')(x)\n",
    "outputs = Dense(3, activation='softmax')(second_to_last)\n",
    "\n",
    "model = Model(inputs=inputs, outputs=outputs)\n",
    "\n",
    "model.compile(RMSprop(lr=0.05), 'categorical_crossentropy',\n",
    "              metrics=['accuracy'])\n",
    "\n",
    "model.fit(X_train, y_train, batch_size=32,\n",
    "          epochs=20, verbose=2,\n",
    "          validation_data=(X_test, y_test),\n",
    "          callbacks=[checkpointer, earlystopper, tensorboard])"
   ]
  },
  {
   "cell_type": "code",
   "execution_count": 28,
   "metadata": {},
   "outputs": [
    {
     "name": "stdout",
     "output_type": "stream",
     "text": [
      "C:\\Users\\oprea\\projects\\zero_to_deep_learning_video\\exercises\n"
     ]
    }
   ],
   "source": [
    "import os\n",
    "print(os.getcwd())"
   ]
  },
  {
   "cell_type": "markdown",
   "metadata": {},
   "source": [
    "Start anaconda powershell and activate ztdl\n",
    "Run Tensorboard with the command:\n",
    "\n",
    "tensorboard --logdir /tmp/udemy/tensorboard/\n",
    "and open your browser at http://localhost:6006"
   ]
  },
  {
   "cell_type": "code",
   "execution_count": null,
   "metadata": {},
   "outputs": [],
   "source": []
  }
 ],
 "metadata": {
  "kernelspec": {
   "display_name": "Python 3",
   "language": "python",
   "name": "python3"
  },
  "language_info": {
   "codemirror_mode": {
    "name": "ipython",
    "version": 3
   },
   "file_extension": ".py",
   "mimetype": "text/x-python",
   "name": "python",
   "nbconvert_exporter": "python",
   "pygments_lexer": "ipython3",
   "version": "3.6.9"
  }
 },
 "nbformat": 4,
 "nbformat_minor": 2
}
